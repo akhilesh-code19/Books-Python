{
  "nbformat": 4,
  "nbformat_minor": 0,
  "metadata": {
    "colab": {
      "provenance": [],
      "authorship_tag": "ABX9TyNW8enb5dEdRBjuNWFTTrpL",
      "include_colab_link": true
    },
    "kernelspec": {
      "name": "python3",
      "display_name": "Python 3"
    },
    "language_info": {
      "name": "python"
    }
  },
  "cells": [
    {
      "cell_type": "markdown",
      "metadata": {
        "id": "view-in-github",
        "colab_type": "text"
      },
      "source": [
        "<a href=\"https://colab.research.google.com/github/akhilesh-code19/Books-Python/blob/main/checkPalindrome(strings).ipynb\" target=\"_parent\"><img src=\"https://colab.research.google.com/assets/colab-badge.svg\" alt=\"Open In Colab\"/></a>"
      ]
    },
    {
      "cell_type": "markdown",
      "source": [
        "checkPalindrome\n",
        "\n"
      ],
      "metadata": {
        "id": "i656WIkTgiDm"
      }
    },
    {
      "cell_type": "code",
      "execution_count": 3,
      "metadata": {
        "id": "jru-I729ggl0"
      },
      "outputs": [],
      "source": [
        "def checkPalindrome(n):\n",
        "    l = len(n)\n",
        "    s = n[l::-1]\n",
        "    if n == s:\n",
        "        print(\"true\")\n",
        "    else:\n",
        "        print(\"false\")\n",
        ""
      ]
    },
    {
      "cell_type": "code",
      "source": [
        "n = input()\n",
        "checkPalindrome(n)"
      ],
      "metadata": {
        "colab": {
          "base_uri": "https://localhost:8080/"
        },
        "id": "sxJKttzAgl6r",
        "outputId": "2bd4e3df-9e7d-4642-d91f-be7690f79a85"
      },
      "execution_count": 4,
      "outputs": [
        {
          "output_type": "stream",
          "name": "stdout",
          "text": [
            "coding\n",
            "false\n"
          ]
        }
      ]
    }
  ]
}